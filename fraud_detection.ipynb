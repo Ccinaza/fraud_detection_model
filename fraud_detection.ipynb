{
 "cells": [
  {
   "cell_type": "markdown",
   "metadata": {
    "id": "B1l08ZHsvNTK"
   },
   "source": [
    "# Fraud Detection Model Notebook"
   ]
  },
  {
   "cell_type": "markdown",
   "metadata": {},
   "source": [
    "## Introduction\n",
    "\n",
    "This notebook demonstrates the step-by-step development of a fraud detection system. It covers synthetic data generation, feature engineering, model training, evaluation, and insights."
   ]
  },
  {
   "cell_type": "markdown",
   "metadata": {},
   "source": [
    "### **1. Import Libraries**\n",
    "\n",
    "The necessary libraries are imported to support data manipulation, visualization, and machine learning."
   ]
  },
  {
   "cell_type": "code",
   "execution_count": 1,
   "metadata": {
    "id": "36gx62hLvNTY"
   },
   "outputs": [],
   "source": [
    "import pandas as pd\n",
    "import numpy as np\n",
    "import seaborn as sns\n",
    "import matplotlib.pyplot as plt\n",
    "import random\n",
    "from faker import Faker\n",
    "from collections import Counter\n",
    "from datetime import datetime, timedelta\n",
    "from sklearn.model_selection import train_test_split\n",
    "from sklearn.metrics import classification_report,  roc_auc_score, recall_score, confusion_matrix\n",
    "from sklearn.linear_model import LogisticRegression\n",
    "from sklearn.ensemble import RandomForestClassifier\n",
    "from sklearn.preprocessing import OneHotEncoder, StandardScaler\n",
    "from imblearn.over_sampling import SMOTE\n",
    "from xgboost import XGBClassifier"
   ]
  },
  {
   "cell_type": "markdown",
   "metadata": {},
   "source": [
    "### **2. Synthetic Data Generation**\n",
    "Here, synthetic data is generated to simulate real-world financial transactions. This data includes attributes like account IDs, transaction amounts, and timestamps. The `Faker` library ensures the data appears realistic."
   ]
  },
  {
   "cell_type": "code",
   "execution_count": 2,
   "metadata": {
    "id": "KTMGMU8WvNTh"
   },
   "outputs": [],
   "source": [
    "fake = Faker()\n",
    "np.random.seed(42)\n",
    "Faker.seed(42)"
   ]
  },
  {
   "cell_type": "code",
   "execution_count": 3,
   "metadata": {
    "id": "HZFpfQd5vNTk"
   },
   "outputs": [],
   "source": [
    "# number of rows\n",
    "num_rows = 1_000_000\n",
    "num_unique_accounts = int(num_rows * 0.2)\n",
    "num_unique_receivers = int(num_rows * 0.1)\n",
    "\n",
    "# Unique account and receiver IDs\n",
    "account_ids = [fake.random_number(digits=10, fix_len=True) for _ in range(num_unique_accounts)]\n",
    "receiver_ids = [fake.random_number(digits=10, fix_len=True) for _ in range(num_unique_receivers)]"
   ]
  },
  {
   "cell_type": "markdown",
   "metadata": {},
   "source": [
    "### **Creating the dataset**\n",
    "\n",
    "**Columns the data should have:**\n",
    "\n",
    "- `Transaction ID:` Unique identifier for each transaction.\n",
    "\n",
    "- `Account ID:` Unique identifier for the account performing the transaction.\n",
    "\n",
    "- `Account Type:` Indicates if it’s a personal or business account.\n",
    "\n",
    "- `Account Creation Date:` For calculating the account age.\n",
    "\n",
    "- `Transaction Amount:` The monetary value of each transaction.\n",
    "\n",
    "- `Transaction Date and Time:` Exact timestamp of each transaction to identify unusual timings and frequency patterns.\n",
    "\n",
    "- `Payment Channel:` Specifies the method used (e.g., bank transfer, Deposit, Sport Betting, Airtime).\n",
    "\n",
    "- `Receiver Account ID:` Unique identifier for the destination account.\n",
    "\n",
    "- `Transaction Type:` Category of the transaction (e.g., Bank Transfer, Airtime, Deposit, Sport Betting, ).\n",
    "\n",
    "- `Transaction Status:` Status of the transaction (e.g., success, failure, pending).\n",
    "\n",
    "- `Daily Transaction Amount:` Cumulative transaction amount per user per day, which can be calculated if not readily available.\n",
    "\n",
    "- `Total Daily Transactions:` Total number of transactions per user per day, useful for rules based on frequency."
   ]
  },
  {
   "cell_type": "code",
   "execution_count": 4,
   "metadata": {
    "id": "pAzex5W1vNTo"
   },
   "outputs": [],
   "source": [
    "# Data Generation\n",
    "data = {\n",
    "    \"transaction_id\": [fake.uuid4() for _ in range(num_rows)],\n",
    "    \"account_id\": np.random.choice(account_ids, num_rows),  # Randomly assign one of the unique account IDs to each transaction\n",
    "    \"account_type\": np.random.choice([\"Personal\", \"Business\"], num_rows, p=[0.7, 0.3]),\n",
    "    \"account_creation_date\": [fake.date_between(start_date='-5y', end_date='today') for _ in range(num_rows)],\n",
    "    \"transaction_amount\": np.random.choice(\n",
    "        [1000, 5000, 10000, 25000, 50000, 100000, 500000, 1000000, 5000000, 7000000],\n",
    "        num_rows, p=[0.3, 0.25, 0.2, 0.1, 0.05, 0.03, 0.02, 0.03, 0.01, 0.01]\n",
    "    ),\n",
    "    \"transaction_date_time\": [fake.date_time_this_year() for _ in range(num_rows)],\n",
    "    \"payment_type\": np.random.choice([\"Credit\", \"Debit\"], num_rows),\n",
    "    \"receiver_account_id\": np.random.choice(receiver_ids, num_rows),\n",
    "    \"transaction_type\": np.random.choice(\n",
    "        [\"Bank Transfer\", \"Airtime\", \"Deposit\", \"Sport Betting\"], num_rows, p=[0.6, 0.1, 0.2, 0.1]\n",
    "    ),\n",
    "}"
   ]
  },
  {
   "cell_type": "code",
   "execution_count": 5,
   "metadata": {
    "id": "tjmvNcMNvNTr"
   },
   "outputs": [],
   "source": [
    "# Creating a DataFrame\n",
    "df = pd.DataFrame(data)"
   ]
  },
  {
   "cell_type": "markdown",
   "metadata": {},
   "source": [
    "### Uncomment the code below to save the generated dataset to a csv file"
   ]
  },
  {
   "cell_type": "code",
   "execution_count": 6,
   "metadata": {},
   "outputs": [],
   "source": [
    "df.to_csv('synthetic_data.csv', index=False)"
   ]
  },
  {
   "cell_type": "code",
   "execution_count": 7,
   "metadata": {
    "colab": {
     "base_uri": "https://localhost:8080/",
     "height": 399
    },
    "id": "bDVmT_isvNTu",
    "outputId": "2cc54602-b9e2-49f5-b9d1-38baa21eb3ce"
   },
   "outputs": [
    {
     "data": {
      "text/html": [
       "<div>\n",
       "<style scoped>\n",
       "    .dataframe tbody tr th:only-of-type {\n",
       "        vertical-align: middle;\n",
       "    }\n",
       "\n",
       "    .dataframe tbody tr th {\n",
       "        vertical-align: top;\n",
       "    }\n",
       "\n",
       "    .dataframe thead th {\n",
       "        text-align: right;\n",
       "    }\n",
       "</style>\n",
       "<table border=\"1\" class=\"dataframe\">\n",
       "  <thead>\n",
       "    <tr style=\"text-align: right;\">\n",
       "      <th></th>\n",
       "      <th>transaction_id</th>\n",
       "      <th>account_id</th>\n",
       "      <th>account_type</th>\n",
       "      <th>account_creation_date</th>\n",
       "      <th>transaction_amount</th>\n",
       "      <th>transaction_date_time</th>\n",
       "      <th>payment_type</th>\n",
       "      <th>receiver_account_id</th>\n",
       "      <th>transaction_type</th>\n",
       "    </tr>\n",
       "  </thead>\n",
       "  <tbody>\n",
       "    <tr>\n",
       "      <th>0</th>\n",
       "      <td>e58a3d35-b950-4c55-b4a2-5542fd7f69a7</td>\n",
       "      <td>5314135070</td>\n",
       "      <td>Personal</td>\n",
       "      <td>2023-12-08</td>\n",
       "      <td>5000</td>\n",
       "      <td>2024-10-10 08:27:12.279631</td>\n",
       "      <td>Debit</td>\n",
       "      <td>5557319056</td>\n",
       "      <td>Bank Transfer</td>\n",
       "    </tr>\n",
       "    <tr>\n",
       "      <th>1</th>\n",
       "      <td>ff36b954-4f29-4e15-b81a-3168beec8bea</td>\n",
       "      <td>8031197711</td>\n",
       "      <td>Personal</td>\n",
       "      <td>2023-08-30</td>\n",
       "      <td>100000</td>\n",
       "      <td>2024-11-17 21:16:09.052232</td>\n",
       "      <td>Debit</td>\n",
       "      <td>1761503272</td>\n",
       "      <td>Bank Transfer</td>\n",
       "    </tr>\n",
       "    <tr>\n",
       "      <th>2</th>\n",
       "      <td>63e9cd32-5969-4318-b2cf-0a1833cd4a7c</td>\n",
       "      <td>7393181744</td>\n",
       "      <td>Personal</td>\n",
       "      <td>2022-09-27</td>\n",
       "      <td>5000</td>\n",
       "      <td>2024-05-23 03:30:06.881631</td>\n",
       "      <td>Credit</td>\n",
       "      <td>1824977975</td>\n",
       "      <td>Bank Transfer</td>\n",
       "    </tr>\n",
       "    <tr>\n",
       "      <th>3</th>\n",
       "      <td>1e1a4d9d-21c9-4f26-a61b-2b966e095091</td>\n",
       "      <td>9803688055</td>\n",
       "      <td>Business</td>\n",
       "      <td>2020-03-10</td>\n",
       "      <td>1000000</td>\n",
       "      <td>2024-11-06 16:02:22.045215</td>\n",
       "      <td>Credit</td>\n",
       "      <td>1295209101</td>\n",
       "      <td>Airtime</td>\n",
       "    </tr>\n",
       "    <tr>\n",
       "      <th>4</th>\n",
       "      <td>8bb4d557-4376-4163-bd4f-ad78c4748ac4</td>\n",
       "      <td>2507547298</td>\n",
       "      <td>Business</td>\n",
       "      <td>2024-06-18</td>\n",
       "      <td>10000</td>\n",
       "      <td>2024-03-18 16:47:10.072540</td>\n",
       "      <td>Credit</td>\n",
       "      <td>2892613049</td>\n",
       "      <td>Bank Transfer</td>\n",
       "    </tr>\n",
       "  </tbody>\n",
       "</table>\n",
       "</div>"
      ],
      "text/plain": [
       "                         transaction_id  account_id account_type  \\\n",
       "0  e58a3d35-b950-4c55-b4a2-5542fd7f69a7  5314135070     Personal   \n",
       "1  ff36b954-4f29-4e15-b81a-3168beec8bea  8031197711     Personal   \n",
       "2  63e9cd32-5969-4318-b2cf-0a1833cd4a7c  7393181744     Personal   \n",
       "3  1e1a4d9d-21c9-4f26-a61b-2b966e095091  9803688055     Business   \n",
       "4  8bb4d557-4376-4163-bd4f-ad78c4748ac4  2507547298     Business   \n",
       "\n",
       "  account_creation_date  transaction_amount       transaction_date_time  \\\n",
       "0            2023-12-08                5000  2024-10-10 08:27:12.279631   \n",
       "1            2023-08-30              100000  2024-11-17 21:16:09.052232   \n",
       "2            2022-09-27                5000  2024-05-23 03:30:06.881631   \n",
       "3            2020-03-10             1000000  2024-11-06 16:02:22.045215   \n",
       "4            2024-06-18               10000  2024-03-18 16:47:10.072540   \n",
       "\n",
       "  payment_type  receiver_account_id transaction_type  \n",
       "0        Debit           5557319056    Bank Transfer  \n",
       "1        Debit           1761503272    Bank Transfer  \n",
       "2       Credit           1824977975    Bank Transfer  \n",
       "3       Credit           1295209101          Airtime  \n",
       "4       Credit           2892613049    Bank Transfer  "
      ]
     },
     "execution_count": 7,
     "metadata": {},
     "output_type": "execute_result"
    }
   ],
   "source": [
    "df = pd.read_csv('synthetic_data.csv')\n",
    "df.head()"
   ]
  },
  {
   "cell_type": "code",
   "execution_count": 8,
   "metadata": {
    "colab": {
     "base_uri": "https://localhost:8080/"
    },
    "id": "yCUSoeFSvNT0",
    "outputId": "3661db12-18e2-4540-ba21-661938d35caf"
   },
   "outputs": [
    {
     "name": "stdout",
     "output_type": "stream",
     "text": [
      "<class 'pandas.core.frame.DataFrame'>\n",
      "RangeIndex: 1000000 entries, 0 to 999999\n",
      "Data columns (total 9 columns):\n",
      " #   Column                 Non-Null Count    Dtype \n",
      "---  ------                 --------------    ----- \n",
      " 0   transaction_id         1000000 non-null  object\n",
      " 1   account_id             1000000 non-null  int64 \n",
      " 2   account_type           1000000 non-null  object\n",
      " 3   account_creation_date  1000000 non-null  object\n",
      " 4   transaction_amount     1000000 non-null  int64 \n",
      " 5   transaction_date_time  1000000 non-null  object\n",
      " 6   payment_type           1000000 non-null  object\n",
      " 7   receiver_account_id    1000000 non-null  int64 \n",
      " 8   transaction_type       1000000 non-null  object\n",
      "dtypes: int64(3), object(6)\n",
      "memory usage: 68.7+ MB\n"
     ]
    }
   ],
   "source": [
    "df.info()"
   ]
  },
  {
   "cell_type": "code",
   "execution_count": 9,
   "metadata": {
    "colab": {
     "base_uri": "https://localhost:8080/",
     "height": 300
    },
    "id": "TX_MbjBVvNUM",
    "outputId": "1cfe4caa-1038-4a99-c11a-2b8f0bf73448"
   },
   "outputs": [
    {
     "data": {
      "text/html": [
       "<div>\n",
       "<style scoped>\n",
       "    .dataframe tbody tr th:only-of-type {\n",
       "        vertical-align: middle;\n",
       "    }\n",
       "\n",
       "    .dataframe tbody tr th {\n",
       "        vertical-align: top;\n",
       "    }\n",
       "\n",
       "    .dataframe thead th {\n",
       "        text-align: right;\n",
       "    }\n",
       "</style>\n",
       "<table border=\"1\" class=\"dataframe\">\n",
       "  <thead>\n",
       "    <tr style=\"text-align: right;\">\n",
       "      <th></th>\n",
       "      <th>account_id</th>\n",
       "      <th>transaction_amount</th>\n",
       "      <th>receiver_account_id</th>\n",
       "    </tr>\n",
       "  </thead>\n",
       "  <tbody>\n",
       "    <tr>\n",
       "      <th>count</th>\n",
       "      <td>1.000000e+06</td>\n",
       "      <td>1.000000e+06</td>\n",
       "      <td>1.000000e+06</td>\n",
       "    </tr>\n",
       "    <tr>\n",
       "      <th>mean</th>\n",
       "      <td>5.501144e+09</td>\n",
       "      <td>1.711166e+05</td>\n",
       "      <td>5.493252e+09</td>\n",
       "    </tr>\n",
       "    <tr>\n",
       "      <th>std</th>\n",
       "      <td>2.596960e+09</td>\n",
       "      <td>8.628293e+05</td>\n",
       "      <td>2.603085e+09</td>\n",
       "    </tr>\n",
       "    <tr>\n",
       "      <th>min</th>\n",
       "      <td>1.000015e+09</td>\n",
       "      <td>1.000000e+03</td>\n",
       "      <td>1.000072e+09</td>\n",
       "    </tr>\n",
       "    <tr>\n",
       "      <th>25%</th>\n",
       "      <td>3.253642e+09</td>\n",
       "      <td>1.000000e+03</td>\n",
       "      <td>3.234954e+09</td>\n",
       "    </tr>\n",
       "    <tr>\n",
       "      <th>50%</th>\n",
       "      <td>5.510231e+09</td>\n",
       "      <td>5.000000e+03</td>\n",
       "      <td>5.485027e+09</td>\n",
       "    </tr>\n",
       "    <tr>\n",
       "      <th>75%</th>\n",
       "      <td>7.746867e+09</td>\n",
       "      <td>1.000000e+04</td>\n",
       "      <td>7.747979e+09</td>\n",
       "    </tr>\n",
       "    <tr>\n",
       "      <th>max</th>\n",
       "      <td>9.999992e+09</td>\n",
       "      <td>7.000000e+06</td>\n",
       "      <td>9.999966e+09</td>\n",
       "    </tr>\n",
       "  </tbody>\n",
       "</table>\n",
       "</div>"
      ],
      "text/plain": [
       "         account_id  transaction_amount  receiver_account_id\n",
       "count  1.000000e+06        1.000000e+06         1.000000e+06\n",
       "mean   5.501144e+09        1.711166e+05         5.493252e+09\n",
       "std    2.596960e+09        8.628293e+05         2.603085e+09\n",
       "min    1.000015e+09        1.000000e+03         1.000072e+09\n",
       "25%    3.253642e+09        1.000000e+03         3.234954e+09\n",
       "50%    5.510231e+09        5.000000e+03         5.485027e+09\n",
       "75%    7.746867e+09        1.000000e+04         7.747979e+09\n",
       "max    9.999992e+09        7.000000e+06         9.999966e+09"
      ]
     },
     "execution_count": 9,
     "metadata": {},
     "output_type": "execute_result"
    }
   ],
   "source": [
    "df.describe()"
   ]
  },
  {
   "cell_type": "markdown",
   "metadata": {
    "id": "yiM13afDvNUM"
   },
   "source": [
    "### **3. Feature Engineering Based on KENAM rules**\n",
    "\n",
    "Feature engineering is critical for extracting meaningful patterns from the data. This section adds features like account age, daily transaction totals, and transaction frequency."
   ]
  },
  {
   "cell_type": "code",
   "execution_count": 11,
   "metadata": {
    "id": "q1UfiwQivNUO"
   },
   "outputs": [],
   "source": [
    "# converting datetimes\n",
    "df['account_creation_date'] = pd.to_datetime(df['account_creation_date'])\n",
    "df['transaction_date_time'] = pd.to_datetime(df['transaction_date_time'])\n",
    "\n",
    "# amounts to float\n",
    "df['transaction_amount'] = df['transaction_amount'].astype(float)\n",
    "\n",
    "# Account age\n",
    "df[\"account_age_days\"] = (pd.to_datetime(\"today\") - pd.to_datetime(df[\"account_creation_date\"])).dt.days\n",
    "\n",
    "# Daily transaction amount for each account\n",
    "df['transaction_date'] = df['transaction_date_time'].dt.date\n",
    "df[\"daily_transaction_amount\"] = df.groupby([\"account_id\",\"transaction_date\"])[\"transaction_amount\"].transform(\"sum\")\n",
    "\n",
    "# Total daily transaction count for each account\n",
    "df[\"total_daily_transactions\"] = df.groupby([\"account_id\",\"transaction_date\"])[\"transaction_id\"].transform(\"count\")\n",
    "\n",
    "# Transaction frequency and time delta to the same account\n",
    "df[\"time_delta_same_account\"] = df.groupby(['account_id', 'receiver_account_id'])[\"transaction_date_time\"].diff().fillna(pd.Timedelta(seconds=0))\n",
    "df[\"transaction_frequency_same_account\"] = df.groupby(['account_id', 'receiver_account_id'])[\"transaction_id\"].transform(\"count\")\n",
    "\n",
    "# Calculate transaction frequency for each transaction\n",
    "df[\"transaction_frequency\"] = df.groupby(\"account_id\")[\"transaction_id\"].transform(\"count\")\n",
    "\n",
    "# previous transaction time\n",
    "df['previous_transaction_time'] = df.groupby('account_id')['transaction_date_time'].shift(1)"
   ]
  },
  {
   "cell_type": "markdown",
   "metadata": {
    "id": "mC0ThrGQvNUO"
   },
   "source": [
    "### Creating the function for the target column based on the KENAM rules"
   ]
  },
  {
   "cell_type": "code",
   "execution_count": 12,
   "metadata": {
    "id": "WFLrdtXjvNUO"
   },
   "outputs": [],
   "source": [
    "def is_suspicious(row):\n",
    "    # Rule 1: Regulatory Requirements (High value transactions for personal and business accounts)\n",
    "    if (row['transaction_amount'] >= 5_000_000 and row['account_type'] == 'Personal') or \\\n",
    "       (row['transaction_amount'] >= 10_000_000 and row['account_type'] == 'Business'):\n",
    "        return 1\n",
    "\n",
    "    # Rule 2: Frequent Transactions to Same Account over 3 times within 1 hour\n",
    "    if row['transaction_frequency_same_account'] > 3 and \\\n",
    "       row['time_delta_same_account'] <= pd.Timedelta(hours=1):\n",
    "        return 1\n",
    "\n",
    "    # Rule 3: High Total Daily Transaction Amount\n",
    "    if row['daily_transaction_amount'] > 5_000_000:\n",
    "        return 1\n",
    "\n",
    "    # Rule 4: Unusually High Transaction Frequency (exceeds 8 in 1 hour and type is 'Bank Transfer')\n",
    "    if row['transaction_frequency'] > 8 and row['transaction_type'] == 'Bank Transfer' and \\\n",
    "       row['time_delta_same_account'] <= pd.Timedelta(hours=1):\n",
    "        return 1\n",
    "\n",
    "    # Rule 5: Late-Night Bank Transfers (after 1 transaction)\n",
    "    if row['transaction_date_time'].strftime('%H:%M:%S') >= '23:00:00' and \\\n",
    "       row['transaction_date_time'].strftime('%H:%M:%S') <= '05:00:00' and \\\n",
    "       row['transaction_type'] == 'Bank Transfer':\n",
    "        if row['previous_transaction_time'] is not None and \\\n",
    "           row['previous_transaction_time'] < row['transaction_date_time']:\n",
    "            return 1\n",
    "\n",
    "    # Rule 6: Early-Morning Bank Transfers with Amounts over 49,000\n",
    "    if row['transaction_date_time'].strftime('%H:%M:%S') >= '00:00:00' and \\\n",
    "       row['transaction_date_time'].strftime('%H:%M:%S') <= '05:00:00' and \\\n",
    "       row['transaction_type'] == 'Bank Transfer' and row['transaction_amount'] > 49_000:\n",
    "        return 1\n",
    "\n",
    "    # Rule 7: New Account Restrictions for Bank Transfers\n",
    "    if row['account_age_days'] <= 14 and row['transaction_frequency'] > 3 and \\\n",
    "       row['transaction_amount'] > 99_000 and row['transaction_type'] == 'Bank Transfer':\n",
    "        return 1\n",
    "\n",
    "    # Rule 8: New Account Restrictions for VAS (Sport Betting)\n",
    "    if row['account_age_days'] <= 14 and row['transaction_type'] == 'Sport Betting' and \\\n",
    "       row['transaction_amount'] > 30_000:\n",
    "        recent_sport_betting = df[(df['account_id'] == row['account_id']) &\n",
    "                                  (df['transaction_type'] == 'Sport Betting') &\n",
    "                                  (df['transaction_date_time'] >= row['transaction_date_time'] - pd.Timedelta(hours=3))]\n",
    "        if recent_sport_betting['transaction_id'].count() > 3:\n",
    "            return 1\n",
    "\n",
    "    # Rule 9: New Account Restrictions for VAS (Airtime)\n",
    "    if row['account_age_days'] <= 14 and row['transaction_type'] == 'Airtime' and \\\n",
    "       row['transaction_amount'] > 4_999:\n",
    "        recent_airtime_purchase = df[(df['account_id'] == row['account_id']) &\n",
    "                                     (df['transaction_type'] == 'Airtime') &\n",
    "                                     (df['transaction_date_time'] >= row['transaction_date_time'] - pd.Timedelta(hours=1))]\n",
    "        if recent_airtime_purchase['transaction_id'].count() > 3:\n",
    "            return 1\n",
    "\n",
    "    return 0"
   ]
  },
  {
   "cell_type": "code",
   "execution_count": 13,
   "metadata": {
    "id": "XlI2w1hwvNUP"
   },
   "outputs": [],
   "source": [
    "# creating the target column\n",
    "df['is_suspicious'] = df.apply(is_suspicious, axis=1)"
   ]
  },
  {
   "cell_type": "code",
   "execution_count": 14,
   "metadata": {
    "colab": {
     "base_uri": "https://localhost:8080/",
     "height": 399
    },
    "id": "zNpmFgTRvNUP",
    "outputId": "1f30b67a-b6e5-4334-c7ac-d2a480bda37f"
   },
   "outputs": [
    {
     "data": {
      "text/html": [
       "<div>\n",
       "<style scoped>\n",
       "    .dataframe tbody tr th:only-of-type {\n",
       "        vertical-align: middle;\n",
       "    }\n",
       "\n",
       "    .dataframe tbody tr th {\n",
       "        vertical-align: top;\n",
       "    }\n",
       "\n",
       "    .dataframe thead th {\n",
       "        text-align: right;\n",
       "    }\n",
       "</style>\n",
       "<table border=\"1\" class=\"dataframe\">\n",
       "  <thead>\n",
       "    <tr style=\"text-align: right;\">\n",
       "      <th></th>\n",
       "      <th>transaction_id</th>\n",
       "      <th>account_id</th>\n",
       "      <th>account_type</th>\n",
       "      <th>account_creation_date</th>\n",
       "      <th>transaction_amount</th>\n",
       "      <th>transaction_date_time</th>\n",
       "      <th>payment_type</th>\n",
       "      <th>receiver_account_id</th>\n",
       "      <th>transaction_type</th>\n",
       "      <th>account_age_days</th>\n",
       "      <th>transaction_date</th>\n",
       "      <th>daily_transaction_amount</th>\n",
       "      <th>total_daily_transactions</th>\n",
       "      <th>time_delta_same_account</th>\n",
       "      <th>transaction_frequency_same_account</th>\n",
       "      <th>transaction_frequency</th>\n",
       "      <th>previous_transaction_time</th>\n",
       "      <th>is_suspicious</th>\n",
       "    </tr>\n",
       "  </thead>\n",
       "  <tbody>\n",
       "    <tr>\n",
       "      <th>0</th>\n",
       "      <td>e58a3d35-b950-4c55-b4a2-5542fd7f69a7</td>\n",
       "      <td>5314135070</td>\n",
       "      <td>Personal</td>\n",
       "      <td>2023-12-08</td>\n",
       "      <td>5000.0</td>\n",
       "      <td>2024-10-10 08:27:12.279631</td>\n",
       "      <td>Debit</td>\n",
       "      <td>5557319056</td>\n",
       "      <td>Bank Transfer</td>\n",
       "      <td>381</td>\n",
       "      <td>2024-10-10</td>\n",
       "      <td>5000.0</td>\n",
       "      <td>1</td>\n",
       "      <td>0 days</td>\n",
       "      <td>1</td>\n",
       "      <td>6</td>\n",
       "      <td>NaT</td>\n",
       "      <td>0</td>\n",
       "    </tr>\n",
       "    <tr>\n",
       "      <th>1</th>\n",
       "      <td>ff36b954-4f29-4e15-b81a-3168beec8bea</td>\n",
       "      <td>8031197711</td>\n",
       "      <td>Personal</td>\n",
       "      <td>2023-08-30</td>\n",
       "      <td>100000.0</td>\n",
       "      <td>2024-11-17 21:16:09.052232</td>\n",
       "      <td>Debit</td>\n",
       "      <td>1761503272</td>\n",
       "      <td>Bank Transfer</td>\n",
       "      <td>481</td>\n",
       "      <td>2024-11-17</td>\n",
       "      <td>100000.0</td>\n",
       "      <td>1</td>\n",
       "      <td>0 days</td>\n",
       "      <td>1</td>\n",
       "      <td>10</td>\n",
       "      <td>NaT</td>\n",
       "      <td>1</td>\n",
       "    </tr>\n",
       "    <tr>\n",
       "      <th>2</th>\n",
       "      <td>63e9cd32-5969-4318-b2cf-0a1833cd4a7c</td>\n",
       "      <td>7393181744</td>\n",
       "      <td>Personal</td>\n",
       "      <td>2022-09-27</td>\n",
       "      <td>5000.0</td>\n",
       "      <td>2024-05-23 03:30:06.881631</td>\n",
       "      <td>Credit</td>\n",
       "      <td>1824977975</td>\n",
       "      <td>Bank Transfer</td>\n",
       "      <td>818</td>\n",
       "      <td>2024-05-23</td>\n",
       "      <td>5000.0</td>\n",
       "      <td>1</td>\n",
       "      <td>0 days</td>\n",
       "      <td>1</td>\n",
       "      <td>3</td>\n",
       "      <td>NaT</td>\n",
       "      <td>0</td>\n",
       "    </tr>\n",
       "    <tr>\n",
       "      <th>3</th>\n",
       "      <td>1e1a4d9d-21c9-4f26-a61b-2b966e095091</td>\n",
       "      <td>9803688055</td>\n",
       "      <td>Business</td>\n",
       "      <td>2020-03-10</td>\n",
       "      <td>1000000.0</td>\n",
       "      <td>2024-11-06 16:02:22.045215</td>\n",
       "      <td>Credit</td>\n",
       "      <td>1295209101</td>\n",
       "      <td>Airtime</td>\n",
       "      <td>1749</td>\n",
       "      <td>2024-11-06</td>\n",
       "      <td>1000000.0</td>\n",
       "      <td>1</td>\n",
       "      <td>0 days</td>\n",
       "      <td>1</td>\n",
       "      <td>3</td>\n",
       "      <td>NaT</td>\n",
       "      <td>0</td>\n",
       "    </tr>\n",
       "    <tr>\n",
       "      <th>4</th>\n",
       "      <td>8bb4d557-4376-4163-bd4f-ad78c4748ac4</td>\n",
       "      <td>2507547298</td>\n",
       "      <td>Business</td>\n",
       "      <td>2024-06-18</td>\n",
       "      <td>10000.0</td>\n",
       "      <td>2024-03-18 16:47:10.072540</td>\n",
       "      <td>Credit</td>\n",
       "      <td>2892613049</td>\n",
       "      <td>Bank Transfer</td>\n",
       "      <td>188</td>\n",
       "      <td>2024-03-18</td>\n",
       "      <td>10000.0</td>\n",
       "      <td>1</td>\n",
       "      <td>0 days</td>\n",
       "      <td>1</td>\n",
       "      <td>5</td>\n",
       "      <td>NaT</td>\n",
       "      <td>0</td>\n",
       "    </tr>\n",
       "  </tbody>\n",
       "</table>\n",
       "</div>"
      ],
      "text/plain": [
       "                         transaction_id  account_id account_type  \\\n",
       "0  e58a3d35-b950-4c55-b4a2-5542fd7f69a7  5314135070     Personal   \n",
       "1  ff36b954-4f29-4e15-b81a-3168beec8bea  8031197711     Personal   \n",
       "2  63e9cd32-5969-4318-b2cf-0a1833cd4a7c  7393181744     Personal   \n",
       "3  1e1a4d9d-21c9-4f26-a61b-2b966e095091  9803688055     Business   \n",
       "4  8bb4d557-4376-4163-bd4f-ad78c4748ac4  2507547298     Business   \n",
       "\n",
       "  account_creation_date  transaction_amount      transaction_date_time  \\\n",
       "0            2023-12-08              5000.0 2024-10-10 08:27:12.279631   \n",
       "1            2023-08-30            100000.0 2024-11-17 21:16:09.052232   \n",
       "2            2022-09-27              5000.0 2024-05-23 03:30:06.881631   \n",
       "3            2020-03-10           1000000.0 2024-11-06 16:02:22.045215   \n",
       "4            2024-06-18             10000.0 2024-03-18 16:47:10.072540   \n",
       "\n",
       "  payment_type  receiver_account_id transaction_type  account_age_days  \\\n",
       "0        Debit           5557319056    Bank Transfer               381   \n",
       "1        Debit           1761503272    Bank Transfer               481   \n",
       "2       Credit           1824977975    Bank Transfer               818   \n",
       "3       Credit           1295209101          Airtime              1749   \n",
       "4       Credit           2892613049    Bank Transfer               188   \n",
       "\n",
       "  transaction_date  daily_transaction_amount  total_daily_transactions  \\\n",
       "0       2024-10-10                    5000.0                         1   \n",
       "1       2024-11-17                  100000.0                         1   \n",
       "2       2024-05-23                    5000.0                         1   \n",
       "3       2024-11-06                 1000000.0                         1   \n",
       "4       2024-03-18                   10000.0                         1   \n",
       "\n",
       "  time_delta_same_account  transaction_frequency_same_account  \\\n",
       "0                  0 days                                   1   \n",
       "1                  0 days                                   1   \n",
       "2                  0 days                                   1   \n",
       "3                  0 days                                   1   \n",
       "4                  0 days                                   1   \n",
       "\n",
       "   transaction_frequency previous_transaction_time  is_suspicious  \n",
       "0                      6                       NaT              0  \n",
       "1                     10                       NaT              1  \n",
       "2                      3                       NaT              0  \n",
       "3                      3                       NaT              0  \n",
       "4                      5                       NaT              0  "
      ]
     },
     "execution_count": 14,
     "metadata": {},
     "output_type": "execute_result"
    }
   ],
   "source": [
    "df.head()"
   ]
  },
  {
   "cell_type": "markdown",
   "metadata": {},
   "source": [
    "### **Class Distribution before SMOTE**"
   ]
  },
  {
   "cell_type": "code",
   "execution_count": 15,
   "metadata": {
    "colab": {
     "base_uri": "https://localhost:8080/",
     "height": 178
    },
    "id": "7NP9eUtGvNUQ",
    "outputId": "1d0dece4-bd7e-491d-f87f-2bd6e631c5bd"
   },
   "outputs": [
    {
     "data": {
      "text/plain": [
       "is_suspicious\n",
       "0    889389\n",
       "1    110611\n",
       "Name: count, dtype: int64"
      ]
     },
     "execution_count": 15,
     "metadata": {},
     "output_type": "execute_result"
    }
   ],
   "source": [
    "class_counts = df['is_suspicious'].value_counts()\n",
    "class_counts"
   ]
  },
  {
   "cell_type": "code",
   "execution_count": 16,
   "metadata": {
    "colab": {
     "base_uri": "https://localhost:8080/",
     "height": 410
    },
    "id": "N5DDeJxGvNUV",
    "outputId": "50114499-3ade-4fe8-e13e-06fe01884ef6"
   },
   "outputs": [
    {
     "data": {
      "image/png": "[encoded data removed]",
      "text/plain": [
       "<Figure size 600x400 with 1 Axes>"
      ]
     },
     "metadata": {},
     "output_type": "display_data"
    }
   ],
   "source": [
    "plt.figure(figsize=(6,4))\n",
    "sns.barplot(x=class_counts.index, y=class_counts.values)\n",
    "plt.title('Suspicious Vs Non-suspicious Transactions')\n",
    "plt.xlabel('is_suspicious( 1 = Suspicious, 0 = Non-suspicious)')\n",
    "plt.ylabel('Count')\n",
    "plt.show()"
   ]
  },
  {
   "cell_type": "markdown",
   "metadata": {},
   "source": [
    "### **Categorical Encoding**"
   ]
  },
  {
   "cell_type": "code",
   "execution_count": 17,
   "metadata": {
    "id": "n6au6x9NvNUX"
   },
   "outputs": [],
   "source": [
    "cat_columns = ['account_type', 'payment_type','transaction_type']"
   ]
  },
  {
   "cell_type": "code",
   "execution_count": 18,
   "metadata": {
    "colab": {
     "base_uri": "https://localhost:8080/",
     "height": 417
    },
    "id": "AJQCOWGqvNUY",
    "outputId": "4a648c4a-9737-4c43-9f0e-905080949d59"
   },
   "outputs": [
    {
     "data": {
      "text/html": [
       "<div>\n",
       "<style scoped>\n",
       "    .dataframe tbody tr th:only-of-type {\n",
       "        vertical-align: middle;\n",
       "    }\n",
       "\n",
       "    .dataframe tbody tr th {\n",
       "        vertical-align: top;\n",
       "    }\n",
       "\n",
       "    .dataframe thead th {\n",
       "        text-align: right;\n",
       "    }\n",
       "</style>\n",
       "<table border=\"1\" class=\"dataframe\">\n",
       "  <thead>\n",
       "    <tr style=\"text-align: right;\">\n",
       "      <th></th>\n",
       "      <th>transaction_id</th>\n",
       "      <th>account_id</th>\n",
       "      <th>account_creation_date</th>\n",
       "      <th>transaction_amount</th>\n",
       "      <th>transaction_date_time</th>\n",
       "      <th>receiver_account_id</th>\n",
       "      <th>account_age_days</th>\n",
       "      <th>transaction_date</th>\n",
       "      <th>daily_transaction_amount</th>\n",
       "      <th>total_daily_transactions</th>\n",
       "      <th>time_delta_same_account</th>\n",
       "      <th>transaction_frequency_same_account</th>\n",
       "      <th>transaction_frequency</th>\n",
       "      <th>previous_transaction_time</th>\n",
       "      <th>is_suspicious</th>\n",
       "      <th>account_type_Personal</th>\n",
       "      <th>payment_type_Debit</th>\n",
       "      <th>transaction_type_Bank Transfer</th>\n",
       "      <th>transaction_type_Deposit</th>\n",
       "      <th>transaction_type_Sport Betting</th>\n",
       "    </tr>\n",
       "  </thead>\n",
       "  <tbody>\n",
       "    <tr>\n",
       "      <th>0</th>\n",
       "      <td>e58a3d35-b950-4c55-b4a2-5542fd7f69a7</td>\n",
       "      <td>5314135070</td>\n",
       "      <td>2023-12-08</td>\n",
       "      <td>5000.0</td>\n",
       "      <td>2024-10-10 08:27:12.279631</td>\n",
       "      <td>5557319056</td>\n",
       "      <td>381</td>\n",
       "      <td>2024-10-10</td>\n",
       "      <td>5000.0</td>\n",
       "      <td>1</td>\n",
       "      <td>0 days</td>\n",
       "      <td>1</td>\n",
       "      <td>6</td>\n",
       "      <td>NaT</td>\n",
       "      <td>0</td>\n",
       "      <td>True</td>\n",
       "      <td>True</td>\n",
       "      <td>True</td>\n",
       "      <td>False</td>\n",
       "      <td>False</td>\n",
       "    </tr>\n",
       "    <tr>\n",
       "      <th>1</th>\n",
       "      <td>ff36b954-4f29-4e15-b81a-3168beec8bea</td>\n",
       "      <td>8031197711</td>\n",
       "      <td>2023-08-30</td>\n",
       "      <td>100000.0</td>\n",
       "      <td>2024-11-17 21:16:09.052232</td>\n",
       "      <td>1761503272</td>\n",
       "      <td>481</td>\n",
       "      <td>2024-11-17</td>\n",
       "      <td>100000.0</td>\n",
       "      <td>1</td>\n",
       "      <td>0 days</td>\n",
       "      <td>1</td>\n",
       "      <td>10</td>\n",
       "      <td>NaT</td>\n",
       "      <td>1</td>\n",
       "      <td>True</td>\n",
       "      <td>True</td>\n",
       "      <td>True</td>\n",
       "      <td>False</td>\n",
       "      <td>False</td>\n",
       "    </tr>\n",
       "    <tr>\n",
       "      <th>2</th>\n",
       "      <td>63e9cd32-5969-4318-b2cf-0a1833cd4a7c</td>\n",
       "      <td>7393181744</td>\n",
       "      <td>2022-09-27</td>\n",
       "      <td>5000.0</td>\n",
       "      <td>2024-05-23 03:30:06.881631</td>\n",
       "      <td>1824977975</td>\n",
       "      <td>818</td>\n",
       "      <td>2024-05-23</td>\n",
       "      <td>5000.0</td>\n",
       "      <td>1</td>\n",
       "      <td>0 days</td>\n",
       "      <td>1</td>\n",
       "      <td>3</td>\n",
       "      <td>NaT</td>\n",
       "      <td>0</td>\n",
       "      <td>True</td>\n",
       "      <td>False</td>\n",
       "      <td>True</td>\n",
       "      <td>False</td>\n",
       "      <td>False</td>\n",
       "    </tr>\n",
       "    <tr>\n",
       "      <th>3</th>\n",
       "      <td>1e1a4d9d-21c9-4f26-a61b-2b966e095091</td>\n",
       "      <td>9803688055</td>\n",
       "      <td>2020-03-10</td>\n",
       "      <td>1000000.0</td>\n",
       "      <td>2024-11-06 16:02:22.045215</td>\n",
       "      <td>1295209101</td>\n",
       "      <td>1749</td>\n",
       "      <td>2024-11-06</td>\n",
       "      <td>1000000.0</td>\n",
       "      <td>1</td>\n",
       "      <td>0 days</td>\n",
       "      <td>1</td>\n",
       "      <td>3</td>\n",
       "      <td>NaT</td>\n",
       "      <td>0</td>\n",
       "      <td>False</td>\n",
       "      <td>False</td>\n",
       "      <td>False</td>\n",
       "      <td>False</td>\n",
       "      <td>False</td>\n",
       "    </tr>\n",
       "    <tr>\n",
       "      <th>4</th>\n",
       "      <td>8bb4d557-4376-4163-bd4f-ad78c4748ac4</td>\n",
       "      <td>2507547298</td>\n",
       "      <td>2024-06-18</td>\n",
       "      <td>10000.0</td>\n",
       "      <td>2024-03-18 16:47:10.072540</td>\n",
       "      <td>2892613049</td>\n",
       "      <td>188</td>\n",
       "      <td>2024-03-18</td>\n",
       "      <td>10000.0</td>\n",
       "      <td>1</td>\n",
       "      <td>0 days</td>\n",
       "      <td>1</td>\n",
       "      <td>5</td>\n",
       "      <td>NaT</td>\n",
       "      <td>0</td>\n",
       "      <td>False</td>\n",
       "      <td>False</td>\n",
       "      <td>True</td>\n",
       "      <td>False</td>\n",
       "      <td>False</td>\n",
       "    </tr>\n",
       "  </tbody>\n",
       "</table>\n",
       "</div>"
      ],
      "text/plain": [
       "                         transaction_id  account_id account_creation_date  \\\n",
       "0  e58a3d35-b950-4c55-b4a2-5542fd7f69a7  5314135070            2023-12-08   \n",
       "1  ff36b954-4f29-4e15-b81a-3168beec8bea  8031197711            2023-08-30   \n",
       "2  63e9cd32-5969-4318-b2cf-0a1833cd4a7c  7393181744            2022-09-27   \n",
       "3  1e1a4d9d-21c9-4f26-a61b-2b966e095091  9803688055            2020-03-10   \n",
       "4  8bb4d557-4376-4163-bd4f-ad78c4748ac4  2507547298            2024-06-18   \n",
       "\n",
       "   transaction_amount      transaction_date_time  receiver_account_id  \\\n",
       "0              5000.0 2024-10-10 08:27:12.279631           5557319056   \n",
       "1            100000.0 2024-11-17 21:16:09.052232           1761503272   \n",
       "2              5000.0 2024-05-23 03:30:06.881631           1824977975   \n",
       "3           1000000.0 2024-11-06 16:02:22.045215           1295209101   \n",
       "4             10000.0 2024-03-18 16:47:10.072540           2892613049   \n",
       "\n",
       "   account_age_days transaction_date  daily_transaction_amount  \\\n",
       "0               381       2024-10-10                    5000.0   \n",
       "1               481       2024-11-17                  100000.0   \n",
       "2               818       2024-05-23                    5000.0   \n",
       "3              1749       2024-11-06                 1000000.0   \n",
       "4               188       2024-03-18                   10000.0   \n",
       "\n",
       "   total_daily_transactions time_delta_same_account  \\\n",
       "0                         1                  0 days   \n",
       "1                         1                  0 days   \n",
       "2                         1                  0 days   \n",
       "3                         1                  0 days   \n",
       "4                         1                  0 days   \n",
       "\n",
       "   transaction_frequency_same_account  transaction_frequency  \\\n",
       "0                                   1                      6   \n",
       "1                                   1                     10   \n",
       "2                                   1                      3   \n",
       "3                                   1                      3   \n",
       "4                                   1                      5   \n",
       "\n",
       "  previous_transaction_time  is_suspicious  account_type_Personal  \\\n",
       "0                       NaT              0                   True   \n",
       "1                       NaT              1                   True   \n",
       "2                       NaT              0                   True   \n",
       "3                       NaT              0                  False   \n",
       "4                       NaT              0                  False   \n",
       "\n",
       "   payment_type_Debit  transaction_type_Bank Transfer  \\\n",
       "0                True                            True   \n",
       "1                True                            True   \n",
       "2               False                            True   \n",
       "3               False                           False   \n",
       "4               False                            True   \n",
       "\n",
       "   transaction_type_Deposit  transaction_type_Sport Betting  \n",
       "0                     False                           False  \n",
       "1                     False                           False  \n",
       "2                     False                           False  \n",
       "3                     False                           False  \n",
       "4                     False                           False  "
      ]
     },
     "execution_count": 18,
     "metadata": {},
     "output_type": "execute_result"
    }
   ],
   "source": [
    "cat_columns = ['account_type', 'payment_type','transaction_type']\n",
    "\n",
    "df_encoded = pd.get_dummies(df, columns=cat_columns, drop_first=True)\n",
    "df_encoded.head()"
   ]
  },
  {
   "cell_type": "code",
   "execution_count": 19,
   "metadata": {
    "colab": {
     "base_uri": "https://localhost:8080/"
    },
    "id": "t3HiJXJMvNUZ",
    "outputId": "8369952b-6bd0-49ba-bec6-ad783601fc06"
   },
   "outputs": [
    {
     "name": "stdout",
     "output_type": "stream",
     "text": [
      "<class 'pandas.core.frame.DataFrame'>\n",
      "RangeIndex: 1000000 entries, 0 to 999999\n",
      "Data columns (total 20 columns):\n",
      " #   Column                              Non-Null Count    Dtype          \n",
      "---  ------                              --------------    -----          \n",
      " 0   transaction_id                      1000000 non-null  object         \n",
      " 1   account_id                          1000000 non-null  int64          \n",
      " 2   account_creation_date               1000000 non-null  datetime64[ns] \n",
      " 3   transaction_amount                  1000000 non-null  float64        \n",
      " 4   transaction_date_time               1000000 non-null  datetime64[ns] \n",
      " 5   receiver_account_id                 1000000 non-null  int64          \n",
      " 6   account_age_days                    1000000 non-null  int64          \n",
      " 7   transaction_date                    1000000 non-null  object         \n",
      " 8   daily_transaction_amount            1000000 non-null  float64        \n",
      " 9   total_daily_transactions            1000000 non-null  int64          \n",
      " 10  time_delta_same_account             1000000 non-null  timedelta64[ns]\n",
      " 11  transaction_frequency_same_account  1000000 non-null  int64          \n",
      " 12  transaction_frequency               1000000 non-null  int64          \n",
      " 13  previous_transaction_time           801338 non-null   datetime64[ns] \n",
      " 14  is_suspicious                       1000000 non-null  int64          \n",
      " 15  account_type_Personal               1000000 non-null  bool           \n",
      " 16  payment_type_Debit                  1000000 non-null  bool           \n",
      " 17  transaction_type_Bank Transfer      1000000 non-null  bool           \n",
      " 18  transaction_type_Deposit            1000000 non-null  bool           \n",
      " 19  transaction_type_Sport Betting      1000000 non-null  bool           \n",
      "dtypes: bool(5), datetime64[ns](3), float64(2), int64(7), object(2), timedelta64[ns](1)\n",
      "memory usage: 119.2+ MB\n"
     ]
    }
   ],
   "source": [
    "df_encoded.info()"
   ]
  },
  {
   "cell_type": "markdown",
   "metadata": {},
   "source": [
    "### **4. Model Training**\n",
    "\n",
    "The prepared data is split into training and testing sets, scaled, and passed into machine learning models. Two models are used: `Logistic Regression` for baseline and `XGBoost` for advanced analysis."
   ]
  },
  {
   "cell_type": "code",
   "execution_count": 20,
   "metadata": {
    "id": "KHUYdQ3dvNUa"
   },
   "outputs": [],
   "source": [
    "X = df_encoded.drop(columns=['is_suspicious','transaction_id', 'time_delta_same_account','transaction_date', 'previous_transaction_time','account_creation_date', 'transaction_date_time'])\n",
    "y = df_encoded['is_suspicious']\n",
    "\n",
    "X_train, X_test, y_train, y_test = train_test_split(X, y, test_size=0.2, random_state=42)"
   ]
  },
  {
   "cell_type": "markdown",
   "metadata": {},
   "source": [
    "### **Scaling features to standardize their ranges**"
   ]
  },
  {
   "cell_type": "code",
   "execution_count": 21,
   "metadata": {
    "id": "Zbv6tvC4wAHv"
   },
   "outputs": [],
   "source": [
    "# Initialize the StandardScaler\n",
    "scaler = StandardScaler()\n",
    "\n",
    "# Fit the scaler on the training data and transform both train and test features\n",
    "X_train_scaled = scaler.fit_transform(X_train)\n",
    "X_test_scaled = scaler.transform(X_test)"
   ]
  },
  {
   "cell_type": "markdown",
   "metadata": {},
   "source": [
    "### **Addressing class imbalance using SMOTE (Synthetic Minority Oversampling Technique)**"
   ]
  },
  {
   "cell_type": "code",
   "execution_count": 22,
   "metadata": {
    "id": "SLSUNbVpvNUb"
   },
   "outputs": [],
   "source": [
    "smote = SMOTE(random_state=42)\n",
    "X_train_resampled, y_train_resampled = smote.fit_resample(X_train_scaled, y_train)"
   ]
  },
  {
   "cell_type": "code",
   "execution_count": 23,
   "metadata": {},
   "outputs": [
    {
     "name": "stdout",
     "output_type": "stream",
     "text": [
      "Class distribution after SMOTE: Counter({0: 711501, 1: 711501})\n"
     ]
    },
    {
     "data": {
      "image/png": "[encoded data removed]",
      "text/plain": [
       "<Figure size 600x400 with 1 Axes>"
      ]
     },
     "metadata": {},
     "output_type": "display_data"
    }
   ],
   "source": [
    "# Check the class distribution after SMOTE\n",
    "smote_class_counts = Counter(y_train_resampled)\n",
    "print(\"Class distribution after SMOTE:\", smote_class_counts)\n",
    "\n",
    "# Plot class distribution after SMOTE\n",
    "plt.figure(figsize=(6, 4))\n",
    "sns.barplot(x=list(smote_class_counts.keys()), y=list(smote_class_counts.values()))\n",
    "plt.title('Class Distribution After SMOTE')\n",
    "plt.xlabel('Class (0 = Non-suspicious, 1 = Suspicious)')\n",
    "plt.ylabel('Count')\n",
    "plt.show()"
   ]
  },
  {
   "cell_type": "markdown",
   "metadata": {},
   "source": [
    "### **Logistic Regression Model**\n",
    "This model provides a simple and interpretable baseline."
   ]
  },
  {
   "cell_type": "code",
   "execution_count": null,
   "metadata": {
    "colab": {
     "base_uri": "https://localhost:8080/"
    },
    "id": "reMMRydY_ENt",
    "outputId": "46a4d689-6826-480b-fd04-22493f524aa7"
   },
   "outputs": [
    {
     "name": "stdout",
     "output_type": "stream",
     "text": [
      "0.9699399194722499\n",
      "              precision    recall  f1-score   support\n",
      "\n",
      "           0       0.99      0.92      0.95    177888\n",
      "           1       0.57      0.92      0.71     22112\n",
      "\n",
      "    accuracy                           0.92    200000\n",
      "   macro avg       0.78      0.92      0.83    200000\n",
      "weighted avg       0.94      0.92      0.92    200000\n",
      "\n",
      "[[162898  14990]\n",
      " [  1876  20236]]\n"
     ]
    }
   ],
   "source": [
    "log_model = LogisticRegression()\n",
    "log_model.fit(X_train_resampled, y_train_resampled)\n",
    "\n",
    "\n",
    "# Evaluating Logistic Regression\n",
    "y_pred_log = log_model.predict(X_test_scaled)\n",
    "logreg_auc = roc_auc_score(y_test, log_model.predict_proba(X_test_scaled)[:, 1])\n",
    "\n",
    "print(logreg_auc)\n",
    "print(classification_report(y_test, y_pred_log))\n",
    "print(confusion_matrix(y_test, y_pred_log))"
   ]
  },
  {
   "cell_type": "markdown",
   "metadata": {},
   "source": [
    "### **XGBoost Model**\n",
    "This model is used for advanced analysis due to its ability to handle complex patterns."
   ]
  },
  {
   "cell_type": "code",
   "execution_count": 25,
   "metadata": {
    "colab": {
     "base_uri": "https://localhost:8080/"
    },
    "id": "lK9nhw8N_OjZ",
    "outputId": "2303ef12-60d0-44b3-8c8a-b98476ca9ec7"
   },
   "outputs": [
    {
     "name": "stdout",
     "output_type": "stream",
     "text": [
      "0.9958901705532159\n",
      "              precision    recall  f1-score   support\n",
      "\n",
      "           0       0.99      0.97      0.98    177888\n",
      "           1       0.77      0.94      0.85     22112\n",
      "\n",
      "    accuracy                           0.96    200000\n",
      "   macro avg       0.88      0.95      0.91    200000\n",
      "weighted avg       0.97      0.96      0.96    200000\n",
      "\n",
      "[[171785   6103]\n",
      " [  1298  20814]]\n"
     ]
    }
   ],
   "source": [
    "xgb_model = XGBClassifier()\n",
    "xgb_model.fit(X_train_resampled, y_train_resampled)\n",
    "\n",
    "# Evaluating XGBoost\n",
    "y_pred_xgb = xgb_model.predict(X_test_scaled)\n",
    "xgb_auc = roc_auc_score(y_test, xgb_model.predict_proba(X_test_scaled)[:, 1])\n",
    "\n",
    "print(xgb_auc)\n",
    "print(classification_report(y_test, y_pred_xgb))\n",
    "print(confusion_matrix(y_test, y_pred_xgb))"
   ]
  },
  {
   "cell_type": "code",
   "execution_count": 26,
   "metadata": {
    "colab": {
     "base_uri": "https://localhost:8080/"
    },
    "id": "ysaYx-sDBFTd",
    "outputId": "a4b6df39-190d-4322-fde5-dcf6503748c5"
   },
   "outputs": [
    {
     "name": "stdout",
     "output_type": "stream",
     "text": [
      "0.9412988422575976\n"
     ]
    }
   ],
   "source": [
    "# Evaluating XGBoost (recall)\n",
    "rec = recall_score(y_test, y_pred_xgb)\n",
    "print(rec)"
   ]
  },
  {
   "cell_type": "code",
   "execution_count": 27,
   "metadata": {
    "colab": {
     "base_uri": "https://localhost:8080/"
    },
    "id": "zJSKFCCT6J6X",
    "outputId": "f9d173f2-c30f-4150-8836-805885b1fcfc"
   },
   "outputs": [
    {
     "data": {
      "text/plain": [
       "['xgb_model_1.pkl']"
      ]
     },
     "execution_count": 27,
     "metadata": {},
     "output_type": "execute_result"
    }
   ],
   "source": [
    "# Save the best model (based on AUC score)\n",
    "if logreg_auc > xgb_auc:\n",
    "    best_model = logreg\n",
    "    best_model_name = 'logreg_model_1.pkl'\n",
    "else:\n",
    "    best_model = xgb_model\n",
    "    best_model_name = 'xgb_model_1.pkl'\n",
    "\n",
    "# Save the best model using joblib\n",
    "import joblib\n",
    "joblib.dump(best_model, best_model_name)"
   ]
  },
  {
   "cell_type": "markdown",
   "metadata": {},
   "source": [
    "## **Conclusion**\n",
    "\n",
    "This notebook demonstrates the process of building a robust fraud detection system from scratch. Synthetic data generation allowed us to simulate real-world scenarios, and feature engineering enhanced the models' ability to identify suspicious activities. Logistic Regression provided a strong baseline, while XGBoost excelled with its ability to detect complex patterns, achieving an `AUC of 0.99 and a recall of 94%.`\n",
    "\n",
    "The model's performance highlights the importance of feature engineering and the effectiveness of ensemble methods in fraud detection. However, it's crucial to note that fraud detection is an ongoing challenge, and the model's performance may degrade over time due to evolving fraud techniques. Regular model retraining and monitoring are essential to maintain its effectiveness.\n",
    "\n",
    "Future directions include deploying the model in a real-time system for continuous monitoring and extending the dataset to simulate more diverse fraud scenarios.\n",
    "\n",
    "By continuously incorporating feedback and improving the model, this approach can adapt to evolving fraud patterns and remain effective over time.\n"
   ]
  }
 ],
 "metadata": {
  "colab": {
   "provenance": []
  },
  "kernelspec": {
   "display_name": "fraud",
   "language": "python",
   "name": "python3"
  },
  "language_info": {
   "codemirror_mode": {
    "name": "ipython",
    "version": 3
   },
   "file_extension": ".py",
   "mimetype": "text/x-python",
   "name": "python",
   "nbconvert_exporter": "python",
   "pygments_lexer": "ipython3",
   "version": "3.10.12"
  }
 },
 "nbformat": 4,
 "nbformat_minor": 0
}
